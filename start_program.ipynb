{
 "cells": [
  {
   "cell_type": "markdown",
   "id": "6b90c345-f160-42e8-a432-ff1f7d2c946b",
   "metadata": {},
   "source": [
    "After testing several prompt and code designs, I chose this option because:\n",
    "\n",
    "1.It is universal\n",
    "\n",
    "2.It provides answers that can be further processed and checked\n",
    "\n",
    "3.It is more suitable for future development, where tasks will be automatically generated\n",
    "\n",
    "4.Can be used as a test and quality check option for automatically generated prompt for each task\n",
    "\n",
    "There was an option to write a prompt for each task, but it is worse in terms of development, since you will have to generate a prompt for each task manually.\n",
    "\n",
    "Neural networks get over-trained and after some time prompts need to be changed. Using a prompt for each task leads to a lot of editing and changes to prompts when over-training the LLM agent and this is more difficult to check and monitor.\n",
    "\n",
    "The prompt is divided into 2 main parts, there is a “code review” and a “friendly reply format” prompt. \n",
    "\n",
    "“Code review” prompt analyses student’s code, compares it to the correct answer, depending on the error found it gives recommendation and additional tips. \n",
    "\n",
    "“Friendly reply format” prompt creates the student-friendly format of the answer. "
   ]
  },
  {
   "cell_type": "markdown",
   "id": "99ec5e5c-9e92-4732-beed-305aa6f301e2",
   "metadata": {},
   "source": [
    "# 1st step: install packets from requirements"
   ]
  },
  {
   "cell_type": "code",
   "execution_count": null,
   "id": "c2fdda8d-b4b6-4f1d-ac46-92959d2bbbcd",
   "metadata": {},
   "outputs": [],
   "source": [
    "pip install -r requirements.txt"
   ]
  },
  {
   "cell_type": "markdown",
   "id": "680c9fd8-e9d5-481a-9624-6fb8457a626b",
   "metadata": {},
   "source": [
    "# 2st step: import start class and class instance "
   ]
  },
  {
   "cell_type": "code",
   "execution_count": 9,
   "id": "5542475d-1223-4649-97f2-15cb571e7544",
   "metadata": {},
   "outputs": [],
   "source": [
    "from main import StartProgram\n",
    "import asyncio\n",
    "\n",
    "app = StartProgram()"
   ]
  },
  {
   "cell_type": "markdown",
   "id": "489fed13-7ae9-4008-80a2-645c9f86e762",
   "metadata": {},
   "source": [
    "# 3st step: get code review from python_code_problems_submissions"
   ]
  },
  {
   "cell_type": "code",
   "execution_count": 10,
   "id": "2a3788a4-1d5b-4605-bca5-34b8d1b7fe7a",
   "metadata": {},
   "outputs": [
    {
     "name": "stdout",
     "output_type": "stream",
     "text": [
      "{\n",
      "\"topic_id\": 399,\n",
      "\"step_id\": 6464,\n",
      "\"errors\": ['The code prompts for input instead of directly reading integers.', 'The variable assignment order is incorrect.', \"The output format doesn't match the expected format.\"],\n",
      "\"recommendations\": ['Read input directly without prompts using input().', 'Ensure the correct order of variable assignment according to the task description.', 'Ensure the output format matches the expected format.']\n",
      "},\n",
      "{\n",
      "\"topic_id\": 534,\n",
      "\"step_id\": 10302,\n",
      "\"errors\": ['The code uses comma-separated values in the print statement instead of string formatting.', 'The code does not follow the required format for the equation output.'],\n",
      "\"recommendations\": ['Use string formatting to ensure the equation is printed in the correct format.', 'Modify the print statement to match the expected output format.']\n",
      "},\n",
      "{\n",
      "\"topic_id\": 407,\n",
      "\"step_id\": 6554,\n",
      "\"errors\": ['The code prompts for input instead of directly reading integers.', 'Incorrect variable naming in the code.', 'The code does not ensure that A is less than or equal to B as specified in the task description.', 'The code uses if-else statements instead of if-elif-else for better efficiency.'],\n",
      "\"recommendations\": ['Read input directly as integers using int(input()) instead of input().', 'Use meaningful variable names like A, B, and H as specified in the task description.', 'Add a check to ensure that A is less than or equal to B before proceeding with the comparison.', 'Replace the nested if-else statements with if-elif-else for better code readability and efficiency.']\n",
      "},\n",
      "{\n",
      "\"topic_id\": 453,\n",
      "\"step_id\": 6609,\n",
      "\"errors\": ['The code does not correctly handle the input format as described in the task.', 'The code does not correctly count the number of correct and incorrect answers.', 'The code does not implement the logic to check for 3 incorrect answers before ending the game.'],\n",
      "\"recommendations\": ['Ensure the code reads the input in the correct format as specified in the task description.', 'Update the logic to correctly count the number of correct and incorrect answers.', 'Implement the logic to track and check for 3 incorrect answers before ending the game.']\n",
      "},\n",
      "{\n",
      "\"topic_id\": 501,\n",
      "\"step_id\": 6850,\n",
      "\"errors\": ['The code does not prompt the user for input as required by the task description.', \"The variable 'word' is used instead of 'film_title' which may cause confusion and does not align with the task description.\", 'The code directly applies the .upper() method to the input without storing it in a variable first.'],\n",
      "\"recommendations\": ['Prompt the user for input using the input() function.', \"Use a meaningful variable name like 'film_title' to improve code readability and alignment with the task description.\", 'Store the input in a variable before applying the .upper() method to ensure correct functionality and readability.']\n",
      "},\n",
      "{\n",
      "\"topic_id\": 1046,\n",
      "\"step_id\": 6487,\n",
      "\"errors\": ['The code prompts for input instead of directly reading the sentence.', 'The output format does not match the expected format.', 'The word count logic is incorrect, leading to incorrect word frequencies.'],\n",
      "\"recommendations\": ['Read the sentence directly without prompts using input().', 'Ensure the output format matches the expected format (word amount).', 'Use a more accurate method to count word frequencies, like using a dictionary comprehension with set(words) to avoid counting the same word multiple times.']\n",
      "},\n",
      "{\n",
      "\"topic_id\": 534,\n",
      "\"step_id\": 10301,\n",
      "\"errors\": [\"The function 'greetings' is called instead of 'greeting'.\", \"The function 'greeting' is only called once instead of twice as required.\", \"The order of arguments passed to the 'greeting' function is incorrect in the second call.\"],\n",
      "\"recommendations\": [\"Correct the function name to 'greeting' in the code.\", \"Ensure that the 'greeting' function is called twice as specified in the task description.\", \"Swap the order of arguments passed to the 'greeting' function in the second call to match the expected output.\"]\n",
      "},\n",
      "{\n",
      "\"topic_id\": 440,\n",
      "\"step_id\": 8213,\n",
      "\"errors\": ['The code prompts for input instead of directly reading the string.', 'The print statement does not correctly implement the reduplication of the word.'],\n",
      "\"recommendations\": ['Read the input directly without prompts using input().', 'To implement reduplication, use print(word*2) to print the word exactly 2 times without any separation.']\n",
      "},\n",
      "{\n",
      "\"topic_id\": 404,\n",
      "\"step_id\": 5918,\n",
      "\"errors\": ['The code prompts for input instead of directly reading integers.', 'Incorrect variable assignment order.', 'The sum variable is not needed.'],\n",
      "\"recommendations\": ['Read input directly without prompts using input().', 'Ensure the correct order of variable assignment according to the task description.', 'Calculate and print the sum directly without storing it in a separate variable.']\n",
      "},\n",
      "{\n",
      "\"topic_id\": 855,\n",
      "\"step_id\": 8832,\n",
      "\"errors\": ['The code snippet is checking if the second string is in the first string instead of checking if the first string contains the second one.', 'The code is directly printing the result of the membership test without storing it in a variable or providing a clear output message.'],\n",
      "\"recommendations\": ['Update the membership test to check if the second string is in the first string: print(a in b)', \"Store the result of the membership test in a variable for better clarity and provide a clear output message like 'The first string contains the second string: True/False'.\"]\n",
      "},\n"
     ]
    }
   ],
   "source": [
    "loop = asyncio.get_running_loop()\n",
    "await loop.create_task(app.review())\n",
    "app._print_responses(app.review_response)"
   ]
  },
  {
   "cell_type": "markdown",
   "id": "f1544fe7-4fd7-4a5e-a659-34ef79cb50ff",
   "metadata": {},
   "source": [
    "# 4st step: change reviews results to friendly format"
   ]
  },
  {
   "cell_type": "code",
   "execution_count": 11,
   "id": "15af938d-e984-4063-967e-9b52daf197a9",
   "metadata": {},
   "outputs": [
    {
     "name": "stdout",
     "output_type": "stream",
     "text": [
      "{\n",
      "\"topic_id\": 399,\n",
      "\"step_id\": 6464,\n",
      "\"errors\": [\"Oops! Let's remember to read integers directly without any prompts.\", \"Let's double-check the order of variable assignments!\", 'Oh no! The output format needs to match the expected format.'],\n",
      "\"recommendations\": [\"Let's read input directly without any prompts using input().\", 'Make sure to assign variables in the correct order as per the task description.', \"Let's ensure the output format matches the expected format.\"]\n",
      "},\n",
      "{\n",
      "\"topic_id\": 534,\n",
      "\"step_id\": 10302,\n",
      "\"errors\": [\"Let's make the code more organized by using string formatting for printing.\", 'The equation output needs to match the required format.'],\n",
      "\"recommendations\": ['Try using string formatting for a cleaner output.', 'Adjust the print statement to match the expected format.']\n",
      "},\n",
      "{\n",
      "\"topic_id\": 407,\n",
      "\"step_id\": 6554,\n",
      "\"errors\": [\"Oh no! Let's make sure we read integers directly without bothering the user.\", \"Oops! Let's use more meaningful variable names to make our code clearer.\", \"Hmm, let's double-check that A is indeed less than or equal to B as the task asks.\", \"Hmm, for better efficiency, let's consider using if-elif-else instead of just if-else statements.\"],\n",
      "\"recommendations\": [\"Let's make our code more efficient by reading integers directly using int(input()) instead of just input().\", \"Let's use A, B, and H as variable names to keep things clear and in line with the task description.\", \"Before comparing, let's add a quick check to ensure A is less than or equal to B.\", \"To improve readability and efficiency, let's switch to if-elif-else instead of nested if-else statements.\"]\n",
      "},\n",
      "{\n",
      "\"topic_id\": 453,\n",
      "\"step_id\": 6609,\n",
      "\"errors\": ['Oops! Looks like the code needs a little tweaking to handle the input format correctly.', 'Uh-oh! The code needs to accurately count the number of correct and incorrect answers.', 'Hmm, seems like the code is missing the logic to check for 3 incorrect answers before ending the game.'],\n",
      "\"recommendations\": ['Friendly reminder to make sure the code reads the input in the specified format from the task description.', 'Just a heads-up to update the logic for counting correct and incorrect answers correctly.', \"Don't forget to add the logic to keep track of and check for 3 incorrect answers before ending the game.\"]\n",
      "},\n",
      "{\n",
      "\"topic_id\": 501,\n",
      "\"step_id\": 6850,\n",
      "\"errors\": [\"Oops! It seems like the code forgot to ask the user for input. Let's make sure to prompt the user next time!\", \"Hmm, using 'word' instead of 'film_title' might confuse our friends. Let's stick to 'film_title' for clarity!\", \"Oh no! It's always a good idea to store the input before converting it to uppercase. Let's keep things organized!\"],\n",
      "\"recommendations\": [\"Let's remember to ask our friends for input using the input() function next time!\", \"How about we use 'film_title' as our variable name? It's more descriptive and aligns better with the task description!\", \"To keep things tidy, let's store the input in a variable before applying the .upper() method. It'll make the code easier to follow!\"]\n",
      "},\n",
      "{\n",
      "\"topic_id\": 1046,\n",
      "\"step_id\": 6487,\n",
      "\"errors\": [\"Let's try reading the sentence directly instead of asking for input.\", 'The output format needs a little tweak to match the expected format.', 'The word count logic might need a bit of a touch-up for better accuracy.'],\n",
      "\"recommendations\": ['How about reading the sentence directly using input() for a smoother experience?', \"Let's make sure the output format aligns perfectly with the expected word amount.\", \"To count word frequencies more accurately, let's consider using a dictionary comprehension with set(words) to avoid any confusion.\"]\n",
      "},\n",
      "{\n",
      "\"topic_id\": 534,\n",
      "\"step_id\": 10301,\n",
      "\"errors\": [\"Oops! Looks like the function name should be 'greeting' instead of 'greetings'.\", \"Hey there! Remember to call the 'greeting' function twice like we discussed.\", \"Oh no! The order of arguments in the second call to 'greeting' needs a little adjustment.\"],\n",
      "\"recommendations\": [\"Let's change the function name to 'greeting' in the code.\", \"Just a friendly reminder to call the 'greeting' function twice as per the task requirements.\", \"How about swapping the arguments in the second call to 'greeting' for the right output?\"]\n",
      "},\n",
      "{\n",
      "\"topic_id\": 440,\n",
      "\"step_id\": 8213,\n",
      "\"errors\": ['Oh no! It looks like the code is asking for input instead of reading the string directly.', \"Oops! The print statement doesn't seem to correctly duplicate the word.\"],\n",
      "\"recommendations\": ['Hey there! Try reading the input directly by using input() without any prompts.', 'For reduplication, you can simply use print(word*2) to print the word exactly 2 times without any spaces.']\n",
      "},\n",
      "{\n",
      "\"topic_id\": 404,\n",
      "\"step_id\": 5918,\n",
      "\"errors\": [\"Oh no! Let's make sure to read integers directly without bothering the user with prompts.\", 'Oops! Check the order of variable assignments to match the task requirements.', 'Hmm, you can actually skip using the sum variable altogether.'],\n",
      "\"recommendations\": [\"Let's keep it smooth by reading inputs directly with input().\", 'Just a friendly reminder to align variable assignments correctly with the task instructions.', 'You can simplify things by calculating and printing the sum directly without extra storage.']\n",
      "},\n",
      "{\n",
      "\"topic_id\": 855,\n",
      "\"step_id\": 8832,\n",
      "\"errors\": [\"Oops! It looks like we're checking the strings the wrong way. Let's switch it up!\", \"Hmm, let's make sure to store the result properly and give a clear output message.\"],\n",
      "\"recommendations\": [\"Let's update the check to ensure we're looking for the second string in the first one: print(a in b)\", \"For better clarity, save the result in a variable and provide a clear output message like 'The first string contains the second string: True/False'.\"]\n",
      "},\n"
     ]
    }
   ],
   "source": [
    "loop = asyncio.get_running_loop()\n",
    "await loop.create_task(app.friendly())\n",
    "app._print_responses(app.friendly_response)"
   ]
  }
 ],
 "metadata": {
  "kernelspec": {
   "display_name": "Python 3 (ipykernel)",
   "language": "python",
   "name": "python3"
  },
  "language_info": {
   "codemirror_mode": {
    "name": "ipython",
    "version": 3
   },
   "file_extension": ".py",
   "mimetype": "text/x-python",
   "name": "python",
   "nbconvert_exporter": "python",
   "pygments_lexer": "ipython3",
   "version": "3.11.7"
  }
 },
 "nbformat": 4,
 "nbformat_minor": 5
}
